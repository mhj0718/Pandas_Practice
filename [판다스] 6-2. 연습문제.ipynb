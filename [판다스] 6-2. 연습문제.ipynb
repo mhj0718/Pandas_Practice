{
 "cells": [
  {
   "cell_type": "markdown",
   "metadata": {},
   "source": [
    "## 내 답안"
   ]
  },
  {
   "cell_type": "code",
   "execution_count": null,
   "metadata": {},
   "outputs": [],
   "source": [
    "import pandas as pd\n",
    "\n",
    "df_16 = pd.read_csv('c:/py_data/skt_m/16년_06월.csv')\n",
    "for i in range(7,13):\n",
    "    try:\n",
    "        df_new = pd.read_csv('c:/py_data/skt_m/16년_'+str(i).zfill(2)+'월.csv')\n",
    "        df_16 = pd.concat([df_16, df_new], axis=0)\n",
    "    except:\n",
    "        pass\n",
    "\n",
    "    \n",
    "df_17 = pd.read_csv('c:/py_data/skt_m/17년_01월.csv')\n",
    "for i in range(2,13):\n",
    "    try:\n",
    "        df_new = pd.read_csv('c:/py_data/skt_m/17년_'+str(i).zfill(2)+'월.csv')\n",
    "        df_17 = pd.concat([df_17, df_new], axis=0)\n",
    "    except:\n",
    "        pass\n",
    "    \n",
    "    \n",
    "df_18 = pd.read_csv('c:/py_data/skt_m/18년_01월.csv')\n",
    "for i in range(2,13):\n",
    "    try:\n",
    "        df_new = pd.read_csv('c:/py_data/skt_m/18년_'+str(i).zfill(2)+'월.csv')\n",
    "        df_18 = pd.concat([df_18, df_new], axis=0)\n",
    "    except:\n",
    "        pass\n",
    "    \n",
    "\n",
    "df_19 = pd.read_csv('c:/py_data/skt_m/19년_01월.csv')\n",
    "for i in range(2,13):\n",
    "    try:\n",
    "        df_new = pd.read_csv('c:/py_data/skt_m/19년_'+str(i).zfill(2)+'월.csv')\n",
    "        df_19 = pd.concat([df_19, df_new], axis=0)\n",
    "    except:\n",
    "        pass\n",
    "    \n",
    "df = pd.concat([df_16,df_17,df_18,df_19], axis=0)\n",
    "df.head()"
   ]
  },
  {
   "cell_type": "code",
   "execution_count": 2,
   "metadata": {},
   "outputs": [
    {
     "name": "stdout",
     "output_type": "stream",
     "text": [
      "<class 'pandas.core.frame.DataFrame'>\n",
      "Int64Index: 2447388 entries, 0 to 91224\n",
      "Data columns (total 15 columns):\n",
      " #   Column    Dtype  \n",
      "---  ------    -----  \n",
      " 0   구분        object \n",
      " 1   년         int64  \n",
      " 2   월         int64  \n",
      " 3   일         int64  \n",
      " 4   요일        object \n",
      " 5   지역-시도     object \n",
      " 6   지역-시군구    object \n",
      " 7   지역-읍면동    object \n",
      " 8   성별        object \n",
      " 9   연령대       object \n",
      " 10  이용_비율(%)  float64\n",
      " 11  시도        object \n",
      " 12  시군구       object \n",
      " 13  읍면동       object \n",
      " 14  이용비율(%)   float64\n",
      "dtypes: float64(2), int64(3), object(10)\n",
      "memory usage: 298.8+ MB\n"
     ]
    }
   ],
   "source": [
    "df.info()"
   ]
  },
  {
   "cell_type": "markdown",
   "metadata": {},
   "source": [
    "## 모범 답안"
   ]
  },
  {
   "cell_type": "code",
   "execution_count": 3,
   "metadata": {},
   "outputs": [],
   "source": [
    "import os\n",
    "import pandas as pd\n",
    "fdir = 'c:/py_data/skt_m/'\n",
    "fname = os.listdir(fdir)\n",
    "\n",
    "data_df = pd.DataFrame()\n",
    "for f in fname:\n",
    "    temp_df = pd.read_csv(fdir+f)\n",
    "    temp_df = temp_df.rename(columns={temp_df.columns[5]:'시도',\n",
    "                                      temp_df.columns[6]:'시군구',\n",
    "                                      temp_df.columns[7]:'읍면동',\n",
    "                                      temp_df.columns[10]:'이용비율(%)'})\n",
    "    data_df = pd.concat([data_df, temp_df])\n",
    "    \n",
    "data_df = data_df.reset_index()\n",
    "del data_df['index']\n",
    "data_df.to_csv(fdir+'skt_concat.csv')"
   ]
  },
  {
   "cell_type": "code",
   "execution_count": null,
   "metadata": {},
   "outputs": [],
   "source": []
  }
 ],
 "metadata": {
  "kernelspec": {
   "display_name": "Python 3",
   "language": "python",
   "name": "python3"
  },
  "language_info": {
   "codemirror_mode": {
    "name": "ipython",
    "version": 3
   },
   "file_extension": ".py",
   "mimetype": "text/x-python",
   "name": "python",
   "nbconvert_exporter": "python",
   "pygments_lexer": "ipython3",
   "version": "3.8.5"
  }
 },
 "nbformat": 4,
 "nbformat_minor": 4
}
