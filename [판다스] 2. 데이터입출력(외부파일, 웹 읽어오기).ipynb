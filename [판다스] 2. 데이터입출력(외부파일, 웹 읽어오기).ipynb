{
 "cells": [
  {
   "cell_type": "markdown",
   "metadata": {},
   "source": [
    "# 데이터 입출력\n",
    "## 외부 파일 읽어오기"
   ]
  },
  {
   "cell_type": "code",
   "execution_count": 1,
   "metadata": {},
   "outputs": [],
   "source": [
    "import pandas as pd"
   ]
  },
  {
   "cell_type": "code",
   "execution_count": 13,
   "metadata": {},
   "outputs": [
    {
     "name": "stdout",
     "output_type": "stream",
     "text": [
      "   자치구       세대      합계_계    합계_남자    합계_여자    한국인_계   한국인_남자   한국인_여자  \\\n",
      "0   합계  4202888  10197604  5000005  5197599  9926968  4871560  5055408   \n",
      "1  종로구    72654    162820    79675    83145   153589    75611    77978   \n",
      "2   중구    59481    133240    65790    67450   124312    61656    62656   \n",
      "3  용산구   106544    244203   119132   125071   229456   111167   118289   \n",
      "4  성동구   130868    311244   153768   157476   303380   150076   153304   \n",
      "\n",
      "   등록외국인_계  등록외국인_남자  등록외국인_여자  65세이상고령자  \n",
      "0   270636    128445    142191   1321458  \n",
      "1     9231      4064      5167     25425  \n",
      "2     8928      4134      4794     20764  \n",
      "3    14747      7965      6782     36231  \n",
      "4     7864      3692      4172     39997  \n",
      "\n",
      "\n",
      "          세대      합계_계    합계_남자    합계_여자    한국인_계   한국인_남자   한국인_여자  등록외국인_계  \\\n",
      "자치구                                                                            \n",
      "합계   4202888  10197604  5000005  5197599  9926968  4871560  5055408   270636   \n",
      "종로구    72654    162820    79675    83145   153589    75611    77978     9231   \n",
      "중구     59481    133240    65790    67450   124312    61656    62656     8928   \n",
      "용산구   106544    244203   119132   125071   229456   111167   118289    14747   \n",
      "성동구   130868    311244   153768   157476   303380   150076   153304     7864   \n",
      "\n",
      "     등록외국인_남자  등록외국인_여자  65세이상고령자  \n",
      "자치구                                \n",
      "합계     128445    142191   1321458  \n",
      "종로구      4064      5167     25425  \n",
      "중구       4134      4794     20764  \n",
      "용산구      7965      6782     36231  \n",
      "성동구      3692      4172     39997  \n"
     ]
    }
   ],
   "source": [
    "# csv 파일 -> dataframe\n",
    "df = pd.read_csv('c:/py_data/population_in_Seoul.csv', encoding='cp949')\n",
    "print(df.head())\n",
    "print('\\n')\n",
    "\n",
    "# index_col 옵션으로 인덱스 열 지정\n",
    "df_1 = pd.read_csv('c:/py_data/population_in_Seoul.csv', encoding='cp949',\n",
    "                   index_col='자치구')\n",
    "print(df_1.head())"
   ]
  },
  {
   "cell_type": "code",
   "execution_count": 14,
   "metadata": {},
   "outputs": [
    {
     "name": "stdout",
     "output_type": "stream",
     "text": [
      "  전력량 (억㎾h) 발전 전력별  1990  1991  1992  1993  1994  1995  1996  1997  ...  2007  \\\n",
      "0        남한     합계  1077  1186  1310  1444  1650  1847  2055  2244  ...  4031   \n",
      "1       NaN     수력    64    51    49    60    41    55    52    54  ...    50   \n",
      "2       NaN     화력   484   573   696   803  1022  1122  1264  1420  ...  2551   \n",
      "3       NaN    원자력   529   563   565   581   587   670   739   771  ...  1429   \n",
      "4       NaN    신재생     -     -     -     -     -     -     -     -  ...     -   \n",
      "5        북한     합계   277   263   247   221   231   230   213   193  ...   236   \n",
      "6       NaN     수력   156   150   142   133   138   142   125   107  ...   133   \n",
      "7       NaN     화력   121   113   105    88    93    88    88    86  ...   103   \n",
      "8       NaN    원자력     -     -     -     -     -     -     -     -  ...     -   \n",
      "\n",
      "   2008  2009  2010  2011  2012  2013  2014  2015  2016  \n",
      "0  4224  4336  4747  4969  5096  5171  5220  5281  5404  \n",
      "1    56    56    65    78    77    84    78    58    66  \n",
      "2  2658  2802  3196  3343  3430  3581  3427  3402  3523  \n",
      "3  1510  1478  1486  1547  1503  1388  1564  1648  1620  \n",
      "4     -     -     -     -    86   118   151   173   195  \n",
      "5   255   235   237   211   215   221   216   190   239  \n",
      "6   141   125   134   132   135   139   130   100   128  \n",
      "7   114   110   103    79    80    82    86    90   111  \n",
      "8     -     -     -     -     -     -     -     -     -  \n",
      "\n",
      "[9 rows x 29 columns]\n",
      "\n",
      "\n",
      "          0       1     2     3     4     5     6     7     8     9   ...  \\\n",
      "0  전력량 (억㎾h)  발전 전력별  1990  1991  1992  1993  1994  1995  1996  1997  ...   \n",
      "1         남한      합계  1077  1186  1310  1444  1650  1847  2055  2244  ...   \n",
      "2        NaN      수력    64    51    49    60    41    55    52    54  ...   \n",
      "3        NaN      화력   484   573   696   803  1022  1122  1264  1420  ...   \n",
      "4        NaN     원자력   529   563   565   581   587   670   739   771  ...   \n",
      "5        NaN     신재생     -     -     -     -     -     -     -     -  ...   \n",
      "6         북한      합계   277   263   247   221   231   230   213   193  ...   \n",
      "7        NaN      수력   156   150   142   133   138   142   125   107  ...   \n",
      "8        NaN      화력   121   113   105    88    93    88    88    86  ...   \n",
      "9        NaN     원자력     -     -     -     -     -     -     -     -  ...   \n",
      "\n",
      "     19    20    21    22    23    24    25    26    27    28  \n",
      "0  2007  2008  2009  2010  2011  2012  2013  2014  2015  2016  \n",
      "1  4031  4224  4336  4747  4969  5096  5171  5220  5281  5404  \n",
      "2    50    56    56    65    78    77    84    78    58    66  \n",
      "3  2551  2658  2802  3196  3343  3430  3581  3427  3402  3523  \n",
      "4  1429  1510  1478  1486  1547  1503  1388  1564  1648  1620  \n",
      "5     -     -     -     -     -    86   118   151   173   195  \n",
      "6   236   255   235   237   211   215   221   216   190   239  \n",
      "7   133   141   125   134   132   135   139   130   100   128  \n",
      "8   103   114   110   103    79    80    82    86    90   111  \n",
      "9     -     -     -     -     -     -     -     -     -     -  \n",
      "\n",
      "[10 rows x 29 columns]\n"
     ]
    }
   ],
   "source": [
    "# Excel 파일 -> dataframe  \n",
    "df1 = pd.read_excel('c:/py_data/남북한발전전력량.xlsx', engine='openpyxl')               # header=0 기본값\n",
    "df2 = pd.read_excel('c:/py_data/남북한발전전력량.xlsx', engine='openpyxl', header=None) # header 옵션 미적용\n",
    "\n",
    "# 출력\n",
    "print(df1)\n",
    "print('\\n')\n",
    "print(df2)"
   ]
  },
  {
   "cell_type": "code",
   "execution_count": 15,
   "metadata": {},
   "outputs": [
    {
     "name": "stdout",
     "output_type": "stream",
     "text": [
      "      algol basic c++\n",
      "Jerry     A     C  B+\n",
      "Riah     A+     B   C\n",
      "Paul      B    B+  C+\n",
      "\n",
      "\n",
      "Index(['Jerry', 'Riah', 'Paul'], dtype='object')\n"
     ]
    }
   ],
   "source": [
    "# json -> dataframe\n",
    "df = pd.read_json('c:/py_data/df_sample.json')\n",
    "print(df)\n",
    "print('\\n')\n",
    "print(df.index)\n"
   ]
  },
  {
   "cell_type": "markdown",
   "metadata": {},
   "source": [
    "## 웹에서 가져오기"
   ]
  },
  {
   "cell_type": "code",
   "execution_count": 16,
   "metadata": {},
   "outputs": [
    {
     "name": "stdout",
     "output_type": "stream",
     "text": [
      "2\n",
      "\n",
      "\n",
      "tables[0]\n",
      "   Unnamed: 0  c0  c1  c2  c3\n",
      "0           0   0   1   4   7\n",
      "1           1   1   2   5   8\n",
      "2           2   2   3   6   9\n",
      "\n",
      "\n",
      "tables[1]\n",
      "         name  year        developer  opensource\n",
      "0       NumPy  2006  Travis Oliphant        True\n",
      "1  matplotlib  2003   John D. Hunter        True\n",
      "2      pandas  2008    Wes Mckinneye        True\n",
      "\n",
      "\n",
      "            year        developer  opensource\n",
      "name                                         \n",
      "NumPy       2006  Travis Oliphant        True\n",
      "matplotlib  2003   John D. Hunter        True\n",
      "pandas      2008    Wes Mckinneye        True\n"
     ]
    }
   ],
   "source": [
    "# HTML 표 속성 읽기\n",
    "# 경로 저장\n",
    "url = 'c:/py_data/sample.html'\n",
    "\n",
    "# df로 변환\n",
    "tables = pd.read_html(url)\n",
    "\n",
    "# 표 개수 확인\n",
    "print(len(tables))\n",
    "print('\\n')\n",
    "\n",
    "# tables 리스트 원소를 반복하면서 출력\n",
    "for i in range(len(tables)):\n",
    "    print('tables[%s]' % i)\n",
    "    print(tables[i])\n",
    "    print('\\n')\n",
    "    \n",
    "# 파이썬 패키지 정보가 들어있는 두 번째를 df에 저장\n",
    "df = tables[1]\n",
    "\n",
    "# name 열을 인덱스로 지정\n",
    "df.set_index(['name'], inplace=True)\n",
    "print(df)"
   ]
  },
  {
   "cell_type": "markdown",
   "metadata": {},
   "source": [
    "## 데이터 저장하기"
   ]
  },
  {
   "cell_type": "code",
   "execution_count": 24,
   "metadata": {},
   "outputs": [
    {
     "name": "stdout",
     "output_type": "stream",
     "text": [
      "      algol basic c++\n",
      "name                 \n",
      "Jerry     A     C  B+\n",
      "Riah     A+     B   C\n",
      "Paul      B    B+  C+\n"
     ]
    }
   ],
   "source": [
    "# csv 파일로 저장\n",
    "\n",
    "data = {'name':['Jerry','Riah','Paul'],\n",
    "        'algol':['A','A+','B'],\n",
    "        'basic':['C','B','B+'],\n",
    "        'c++':['B+','C','C+']}\n",
    "\n",
    "df = pd.DataFrame(data)\n",
    "df.set_index('name', inplace=True)\n",
    "print(df)\n",
    "\n",
    "# 저장하기\n",
    "df.to_csv('c:/py_data/df_sample.csv')"
   ]
  },
  {
   "cell_type": "code",
   "execution_count": 26,
   "metadata": {
    "scrolled": true
   },
   "outputs": [
    {
     "name": "stdout",
     "output_type": "stream",
     "text": [
      "      algol basic c++\n",
      "name                 \n",
      "Jerry     A     C  B+\n",
      "Riah     A+     B   C\n",
      "Paul      B    B+  C+\n",
      "\n",
      "\n",
      "    c1  c2  c3  c4\n",
      "c0                \n",
      "1    4   7  10  13\n",
      "2    5   8  11  14\n",
      "3    6   9  12  15\n",
      "\n",
      "\n"
     ]
    }
   ],
   "source": [
    "# json 파일로 저장\n",
    "data1 = {'name':['Jerry','Riah','Paul'],\n",
    "        'algol':['A','A+','B'],\n",
    "        'basic':['C','B','B+'],\n",
    "        'c++':['B+','C','C+']}\n",
    "\n",
    "data2 = {'c0':[1,2,3],\n",
    "         'c1':[4,5,6],\n",
    "         'c2':[7,8,9],\n",
    "         'c3':[10,11,12],\n",
    "         'c4':[13,14,15]}\n",
    "\n",
    "df1 = pd.DataFrame(data1)\n",
    "df1.set_index('name', inplace=True)   # name 열을 인덱스로 지정\n",
    "print(df1)\n",
    "print('\\n')\n",
    "\n",
    "df2 = pd.DataFrame(data2)\n",
    "df2.set_index('c0', inplace=True)\n",
    "print(df2)\n",
    "print('\\n')\n",
    "\n",
    "# df1을 'sheet1'으로, df2를 'sheet2'로 저장(Excel 파일명은 'df_excelwriter.xlsx')\n",
    "writer = pd.ExcelWriter('c:/py_data/df.ExcelWriter.xlsx')         # ExcelWriter는 워크북 객체 생성\n",
    "df1.to_excel(writer, sheet_name='sheet1')\n",
    "df2.to_excel(writer, sheet_name='sheet2')\n",
    "writer.save()"
   ]
  },
  {
   "cell_type": "code",
   "execution_count": null,
   "metadata": {},
   "outputs": [],
   "source": []
  }
 ],
 "metadata": {
  "kernelspec": {
   "display_name": "Python 3",
   "language": "python",
   "name": "python3"
  },
  "language_info": {
   "codemirror_mode": {
    "name": "ipython",
    "version": 3
   },
   "file_extension": ".py",
   "mimetype": "text/x-python",
   "name": "python",
   "nbconvert_exporter": "python",
   "pygments_lexer": "ipython3",
   "version": "3.8.5"
  }
 },
 "nbformat": 4,
 "nbformat_minor": 4
}
