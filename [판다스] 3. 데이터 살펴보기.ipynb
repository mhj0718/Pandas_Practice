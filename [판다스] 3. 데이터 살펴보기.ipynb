{
 "cells": [
  {
   "cell_type": "markdown",
   "metadata": {},
   "source": [
    "# 데이터 살펴보기\n",
    "## 데이터프레임의 구조"
   ]
  },
  {
   "cell_type": "code",
   "execution_count": 1,
   "metadata": {},
   "outputs": [],
   "source": [
    "import pandas as pd"
   ]
  },
  {
   "cell_type": "code",
   "execution_count": 2,
   "metadata": {},
   "outputs": [
    {
     "name": "stdout",
     "output_type": "stream",
     "text": [
      "    mpg  cylinders  displacement horsepower  weight  accelerateion  \\\n",
      "0  18.0          8         307.0      130.0  3504.0           12.0   \n",
      "1  15.0          8         350.0      165.0  3693.0           11.5   \n",
      "2  18.0          8         318.0      150.0  3436.0           11.0   \n",
      "3  16.0          8         304.0      150.0  3433.0           12.0   \n",
      "4  17.0          8         302.0      140.0  3449.0           10.5   \n",
      "\n",
      "   model year  origin                       name  \n",
      "0          70       1  chevrolet chevelle malibu  \n",
      "1          70       1          buick skylark 320  \n",
      "2          70       1         plymouth satellite  \n",
      "3          70       1              amc rebel sst  \n",
      "4          70       1                ford torino  \n",
      "\n",
      "\n",
      "      mpg  cylinders  displacement horsepower  weight  accelerateion  \\\n",
      "393  27.0          4         140.0      86.00  2790.0           15.6   \n",
      "394  44.0          4          97.0      52.00  2130.0           24.6   \n",
      "395  32.0          4         135.0      84.00  2295.0           11.6   \n",
      "396  28.0          4         120.0      79.00  2625.0           18.6   \n",
      "397  31.0          4         119.0      82.00  2720.0           19.4   \n",
      "\n",
      "     model year  origin             name  \n",
      "393          82       1  ford mustang gl  \n",
      "394          82       2        vw pickup  \n",
      "395          82       1    dodge rampage  \n",
      "396          82       1      ford ranger  \n",
      "397          82       1       chevy s-10  \n"
     ]
    }
   ],
   "source": [
    "# 데이터 내용 미리보기\n",
    "df = pd.read_csv('c:/py_data/auto-mpg.csv', header=None)\n",
    "\n",
    "# 열 이름 지정\n",
    "df.columns = ['mpg','cylinders','displacement','horsepower','weight',\n",
    "              'accelerateion','model year','origin','name']\n",
    "\n",
    "# 데이터 프레임 df의 내용을 일부 확인\n",
    "print(df.head())               # 첫 5행\n",
    "print('\\n')\n",
    "print(df.tail())               # 마지막 5행"
   ]
  },
  {
   "cell_type": "code",
   "execution_count": null,
   "metadata": {},
   "outputs": [],
   "source": []
  }
 ],
 "metadata": {
  "kernelspec": {
   "display_name": "Python 3",
   "language": "python",
   "name": "python3"
  },
  "language_info": {
   "codemirror_mode": {
    "name": "ipython",
    "version": 3
   },
   "file_extension": ".py",
   "mimetype": "text/x-python",
   "name": "python",
   "nbconvert_exporter": "python",
   "pygments_lexer": "ipython3",
   "version": "3.8.5"
  }
 },
 "nbformat": 4,
 "nbformat_minor": 4
}
